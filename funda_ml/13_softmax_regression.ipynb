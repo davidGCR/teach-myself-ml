{
 "cells": [
  {
   "cell_type": "markdown",
   "metadata": {
    "deletable": true,
    "editable": true
   },
   "source": [
    "## Softmax Regression\n",
    "Notes and experiments from http://machinelearningcoban.com/2017/02/17/softmax/"
   ]
  },
  {
   "cell_type": "markdown",
   "metadata": {},
   "source": [
    "Logistic regression works perfectly with 2 classes. Though using it in combination with _one-vs-rest_ produces good classification, there are a few factors that are not mathematically reasonable. For example, the decision in which we label a record is backed up by the probability theory (we see the output layer as the respresentation of the probability it belongs to that class).\n",
    "\n",
    "However, we could run into a problem that we have an output like $y = [0.8, 0.7]$, which means $P(x \\in C_1) = 0.8, P(x \\in C_2) = 0.7$. This is somehow unreasonable as $P(x \\in C_1) + P(x \\in C_2) = 1$ (if we have two classes).\n",
    "\n",
    "As an alternative of _sigmoid function_, we use _softmax function_ which offers nicer properties, matching the probability model:\n",
    "\n",
    "$\\Sigma^K_{i=1}P(x \\in C_i) = 1$ where $K$ is the number of classes"
   ]
  },
  {
   "cell_type": "code",
   "execution_count": 1,
   "metadata": {
    "collapsed": false,
    "deletable": true,
    "editable": true
   },
   "outputs": [],
   "source": [
    "import numpy as np\n",
    "import matplotlib.pyplot as plt\n",
    "np.random.seed(3)\n",
    "\n",
    "# Random data\n",
    "means = [[2, 2], [3, 8], [5, 4]]\n",
    "cov = [[1, 0], [0, 1]]\n",
    "N0, N1, N2 = 100, 100, 100\n",
    "N = N0 + N1 + N2\n",
    "\n",
    "X0 = np.random.multivariate_normal(means[0], cov, N0)\n",
    "X1 = np.random.multivariate_normal(means[1], cov, N1)\n",
    "X2 = np.random.multivariate_normal(means[2], cov, N2)\n",
    "X = np.concatenate((X0, X1, X2), axis=0)\n",
    "labels_original = np.array([0]*N0 + [1]*N1 + [2]*N2)"
   ]
  },
  {
   "cell_type": "code",
   "execution_count": 2,
   "metadata": {
    "collapsed": false,
    "deletable": true,
    "editable": true
   },
   "outputs": [],
   "source": [
    "from scipy import sparse\n",
    "\n",
    "def prepend_ones(X):\n",
    "    return np.concatenate((np.ones((N, 1)), X), axis=1)\n",
    "\n",
    "def convert_labels(y, C=None):\n",
    "    if C is None:\n",
    "        # Assume the class is indexed from zero. 0 = 1st class, 1 = 2nd class...\n",
    "        C = y.max() + 1\n",
    "    data = np.ones_like(y.T)\n",
    "    row = np.arange(y.shape[0])\n",
    "    col = y.T\n",
    "    return sparse.coo_matrix((data, (row, col)), shape=(y.shape[0], C)).toarray()\n",
    "\n",
    "# Format data\n",
    "X = prepend_ones(X)\n",
    "Y = convert_labels(labels_original)"
   ]
  },
  {
   "cell_type": "code",
   "execution_count": 3,
   "metadata": {
    "collapsed": false,
    "deletable": true,
    "editable": true
   },
   "outputs": [
    {
     "data": {
      "image/png": "[encoded data removed]",
      "text/plain": [
       "<matplotlib.figure.Figure at 0x1055b0f60>"
      ]
     },
     "metadata": {},
     "output_type": "display_data"
    }
   ],
   "source": [
    "def display_data(X, labels, X_misclassified=None):\n",
    "    X0 = X[np.where(labels == 0)[0], :]\n",
    "    X1 = X[np.where(labels == 1)[0], :]\n",
    "    X2 = X[np.where(labels == 2)[0], :]\n",
    "    \n",
    "    plt.scatter(X0[:, 1], X0[:, 2], color='blue', marker='.')\n",
    "    plt.scatter(X1[:, 1], X1[:, 2], color='green', marker='x')\n",
    "    plt.scatter(X2[:, 1], X2[:, 2], color='orange', marker='+')\n",
    "    \n",
    "    if X_misclassified is not None:\n",
    "        plt.scatter(X_misclassified[:, 1], X_misclassified[:, 2], facecolors='none', edgecolors='red', s=60)\n",
    "    \n",
    "    plt.legend(['class 1', 'class 2', 'class 3', 'misclassified'])\n",
    "    plt.show()\n",
    "\n",
    "display_data(X, labels_original)"
   ]
  },
  {
   "cell_type": "code",
   "execution_count": 4,
   "metadata": {
    "collapsed": true
   },
   "outputs": [],
   "source": [
    "from numpy.linalg import linalg as LA\n",
    "W_init = np.random.rand(X.shape[1], Y.shape[1]) # D x C"
   ]
  },
  {
   "cell_type": "markdown",
   "metadata": {},
   "source": [
    "___Softmax function:___\n",
    "\n",
    "$$f(z_i) = \\frac{exp(z_i)}{\\Sigma^C_{j=1}exp(z_j)}$$\n",
    "\n",
    "To void _overflow_ when calculating $exp(z_i)$, we could transform $f(z_i)$ into:\n",
    "\n",
    "$$f(z_i) = \\frac{exp(z_i - c)}{\\Sigma^C_{j=1}exp(z_j - c)}$$\n",
    "\n",
    "In practice, we usually choose $c = max(z_i)$"
   ]
  },
  {
   "cell_type": "code",
   "execution_count": 5,
   "metadata": {
    "collapsed": false,
    "deletable": true,
    "editable": true
   },
   "outputs": [],
   "source": [
    "def softmax(Z):\n",
    "    eZ = np.exp(Z - np.max(Z, axis=1, keepdims = True))    \n",
    "    eZ_sum = eZ.sum(axis=1).reshape(-1, 1)\n",
    "    return eZ / eZ_sum\n",
    "\n",
    "def h(X, W):\n",
    "    return X.dot(W)\n",
    "\n",
    "def cost(X, Y, W):\n",
    "    A = softmax(h(X, W))\n",
    "    return -np.sum(Y * np.log(A))\n",
    "\n",
    "def grad(X, Y, W):\n",
    "    A = softmax(h(X, W))\n",
    "    E = A - Y\n",
    "    return X.T.dot(E)"
   ]
  },
  {
   "cell_type": "markdown",
   "metadata": {},
   "source": [
    "Computing ___gradient___ is vitally important but error-prone. We should check if the computation is correct by comparing with the result of ___numerical gradient___.\n",
    "\n",
    "Note: We should only perform this check once (before training) since the computation of numerical gradient is highly expensive."
   ]
  },
  {
   "cell_type": "code",
   "execution_count": 6,
   "metadata": {
    "collapsed": false,
    "deletable": true,
    "editable": true
   },
   "outputs": [
    {
     "name": "stdout",
     "output_type": "stream",
     "text": [
      "Norm: 1.21436338898e-07\n"
     ]
    }
   ],
   "source": [
    "# Check gradient by comparing it with \"numerical gradient\"\n",
    "def numerical_grad(X, Y, W, cost):\n",
    "    eps = 1e-6\n",
    "    g = np.zeros_like(W)\n",
    "    for i in range(W.shape[0]):\n",
    "        for j in range(W.shape[1]):\n",
    "            W1 = W.copy()\n",
    "            W2 = W.copy()\n",
    "            W1[i, j] += eps \n",
    "            W2[i, j] -= eps\n",
    "            g[i, j] = (cost(X, Y, W1) - cost(X, Y, W2))/(2*eps)\n",
    "    return g \n",
    "\n",
    "g1 = grad(X, Y, W_init)\n",
    "g2 = numerical_grad(X, Y, W_init, cost)\n",
    "print('Norm:', LA.norm(g1 - g2))"
   ]
  },
  {
   "cell_type": "markdown",
   "metadata": {},
   "source": [
    "The norm is quite small --> We conclude that g1 and g2 are quite approximate, which means the _grad_ function is accurate.\n",
    "\n",
    "We implement other steps of training similarly to logistic regression."
   ]
  },
  {
   "cell_type": "code",
   "execution_count": 7,
   "metadata": {
    "collapsed": false,
    "deletable": true,
    "editable": true,
    "scrolled": false
   },
   "outputs": [
    {
     "name": "stdout",
     "output_type": "stream",
     "text": [
      "Training done after 34 iterations\n",
      "Training accuracy: 95.0\n"
     ]
    }
   ],
   "source": [
    "def has_converged(W, W_updated):\n",
    "    return np.allclose(W, W_updated)\n",
    "    \n",
    "def softmax_regression(X, Y, W_init, eta=0.01, max_count=1000):\n",
    "    W_history = [W_init] # d x k\n",
    "    n, d = X.shape\n",
    "    k = Y.shape[1]\n",
    "    count = 0\n",
    "    while count < max_count:\n",
    "        mix_ids = np.random.permutation(N)\n",
    "        for i in mix_ids:\n",
    "            Xi = X[i, :].reshape((1, d)) # 1 x d\n",
    "            Yi = Y[i, :].reshape((1, k)) # 1 x k\n",
    "            ai = softmax(Xi.dot(W_history[-1]))\n",
    "            \n",
    "            W_updated = W_history[-1] - eta*grad(Xi, Yi, W_history[-1])\n",
    "            \n",
    "            if has_converged(W_history[-1], W_updated):\n",
    "                return W_history, count\n",
    "            \n",
    "            W_history.append(W_updated)\n",
    "        count += 1\n",
    "    return W_history, count\n",
    "\n",
    "def predict(X, W):\n",
    "    return np.argmax(h(X, W), axis=1)\n",
    "\n",
    "W_init = np.random.rand(X.shape[1], Y.shape[1])\n",
    "W_history, count = softmax_regression(X, Y, W_init, eta=0.01, max_count=1000)\n",
    "labels_predicted = predict(X, W_history[-1])\n",
    "\n",
    "accuracy = np.double(labels_predicted == labels_original).mean()\n",
    "print('Training done after {} iterations'.format(count))\n",
    "print('Training accuracy:', accuracy*100)"
   ]
  },
  {
   "cell_type": "markdown",
   "metadata": {},
   "source": [
    "To make sure the cost function reaches the optimal, we plot the cost to check whether it decreases over time"
   ]
  },
  {
   "cell_type": "code",
   "execution_count": 8,
   "metadata": {
    "collapsed": false,
    "deletable": true,
    "editable": true
   },
   "outputs": [
    {
     "data": {
      "image/png": "[encoded data removed]",
      "text/plain": [
       "<matplotlib.figure.Figure at 0x105867c18>"
      ]
     },
     "metadata": {},
     "output_type": "display_data"
    }
   ],
   "source": [
    "# Plot cost over iterations to check if the covergence took place\n",
    "cost_history = []\n",
    "for W in W_history:\n",
    "    cost_history.append(cost(X, Y, W))\n",
    "\n",
    "plt.plot(range(len(cost_history)), cost_history)\n",
    "plt.title('Cost by steps (iterations)')\n",
    "plt.xlabel('steps')\n",
    "plt.ylabel('cost')\n",
    "plt.show()"
   ]
  },
  {
   "cell_type": "code",
   "execution_count": 9,
   "metadata": {
    "collapsed": false,
    "deletable": true,
    "editable": true
   },
   "outputs": [
    {
     "data": {
      "image/png": "[encoded data removed]",
      "text/plain": [
       "<matplotlib.figure.Figure at 0x105867ef0>"
      ]
     },
     "metadata": {},
     "output_type": "display_data"
    }
   ],
   "source": [
    "X_misclassified = X[np.argwhere(labels_predicted != labels_original).reshape(1, -1)[0]]\n",
    "display_data(X, labels_predicted, X_misclassified)"
   ]
  },
  {
   "cell_type": "code",
   "execution_count": null,
   "metadata": {
    "collapsed": true,
    "deletable": true,
    "editable": true
   },
   "outputs": [],
   "source": []
  }
 ],
 "metadata": {
  "kernelspec": {
   "display_name": "Python 3",
   "language": "python",
   "name": "python3"
  },
  "language_info": {
   "codemirror_mode": {
    "name": "ipython",
    "version": 3
   },
   "file_extension": ".py",
   "mimetype": "text/x-python",
   "name": "python",
   "nbconvert_exporter": "python",
   "pygments_lexer": "ipython3",
   "version": "3.6.0"
  }
 },
 "nbformat": 4,
 "nbformat_minor": 2
}
