{
 "cells": [
  {
   "cell_type": "markdown",
   "metadata": {
    "deletable": true,
    "editable": true
   },
   "source": [
    "## Principle Component Analysis (PCA)\n",
    "Notes and experiments from http://machinelearningcoban.com/2017/06/15/pca/"
   ]
  },
  {
   "cell_type": "markdown",
   "metadata": {
    "deletable": true,
    "editable": true
   },
   "source": [
    "___PCA process to reduce dimensions of data from d-D to k-D___:\n",
    "- Step 1: Adjust the data so that its mean equals 0 (by subtract by its mean)\n",
    "- Step 2: Compute covariance matrix $\\Sigma \\in \\mathbf{R}^{d x d}$\n",
    "- Step 3: Compute eigenvalues and eigenvectors of the $\\Sigma$\n",
    "- Step 4: Form the feature matrix by choosing $k$ eigenvectors corresponding to $k$ largest eigen values\n",
    "- Step 5: Project data using the feature matrix"
   ]
  },
  {
   "cell_type": "code",
   "execution_count": 1,
   "metadata": {
    "collapsed": false,
    "deletable": true,
    "editable": true
   },
   "outputs": [],
   "source": [
    "import numpy as np\n",
    "import matplotlib.pyplot as plt\n",
    "from numpy.linalg import linalg as LA\n",
    "\n",
    "# X: data\n",
    "# k: number of PCA components to keep\n",
    "# Return:\n",
    "# - X_projected: projected data to kD dimension\n",
    "# - S: orthogonal matrix used to project data\n",
    "def pca_transform(X, k):\n",
    "    n, d = X.shape\n",
    "\n",
    "    # Step 1\n",
    "    X_adj = X - X.mean(axis=0)\n",
    "    \n",
    "    # Step 2\n",
    "    cov = 1/n * X_adj.T.dot(X_adj)\n",
    "    \n",
    "    # Step 3\n",
    "    eigenvalues, eigenvectorsT = LA.eig(cov)\n",
    "    \n",
    "    # Step 4\n",
    "    sorted_indices = np.argsort(-eigenvalues)[:k]\n",
    "    S = eigenvectorsT.T[sorted_indices]\n",
    "    \n",
    "    # Step 5\n",
    "    X_projected = X_adj.dot(S.T)\n",
    "    return X_projected, S"
   ]
  },
  {
   "cell_type": "markdown",
   "metadata": {
    "deletable": true,
    "editable": true
   },
   "source": [
    "### Try PCA with simple data\n",
    "Let's use PCA to rotate 2D data points to a new basic in which the distribution along an axis is around the mean, and hence could be reduced.\n",
    "\n",
    "Ref: http://www.cs.otago.ac.nz/cosc453/student_tutorials/principal_components.pdf"
   ]
  },
  {
   "cell_type": "code",
   "execution_count": 2,
   "metadata": {
    "collapsed": false,
    "deletable": true,
    "editable": true
   },
   "outputs": [
    {
     "data": {
      "image/png": "[encoded data removed]",
      "text/plain": [
       "<matplotlib.figure.Figure at 0x1127bc9e8>"
      ]
     },
     "metadata": {},
     "output_type": "display_data"
    },
    {
     "data": {
      "image/png": "[encoded data removed]",
      "text/plain": [
       "<matplotlib.figure.Figure at 0x1127dd128>"
      ]
     },
     "metadata": {},
     "output_type": "display_data"
    }
   ],
   "source": [
    "X = np.array([[2.5, 2.4], [0.5, 0.7], [2.2, 2.9], [1.9, 2.2], [3.1, 3.0], [2.3, 2.7], [2, 1.6], [1, 1.1], [1.5, 1.6], [1.1, 0.9]])\n",
    "plt.scatter(X[:, 0], X[:, 1])\n",
    "plt.ylim(0, 4)\n",
    "plt.show()\n",
    "\n",
    "X_projected, _ = pca_transform(X, k=2)\n",
    "\n",
    "plt.scatter(X_projected[:, 0], X_projected[:, 1], color='red')\n",
    "plt.ylim(-2, 2)\n",
    "plt.show()"
   ]
  },
  {
   "cell_type": "markdown",
   "metadata": {
    "deletable": true,
    "editable": true
   },
   "source": [
    "### Try PCA with IRIS"
   ]
  },
  {
   "cell_type": "code",
   "execution_count": 3,
   "metadata": {
    "collapsed": false,
    "deletable": true,
    "editable": true
   },
   "outputs": [],
   "source": [
    "import pandas as pd\n",
    "\n",
    "iris = pd.read_csv('data/iris.csv', header=None)\n",
    "iris.columns = ['SepalLengthCm', 'SepalWidthCm', 'PetalLengthCm', 'PetalWidthCm', 'Species']\n",
    "\n",
    "\n",
    "def plot_iris(X, title, xlabel, ylabel):\n",
    "    X0 = X[np.where(iris.Species == 'Iris-setosa')]\n",
    "    X1 = X[np.where(iris.Species == 'Iris-versicolor')]\n",
    "    X2 = X[np.where(iris.Species == 'Iris-virginica')]\n",
    "    \n",
    "    plt.scatter(X0[:, 0], X0[:, 1], color='red')\n",
    "    plt.scatter(X1[:, 0], X1[:, 1], color='blue')\n",
    "    plt.scatter(X2[:, 0], X2[:, 1], color='green')\n",
    "    plt.legend(['Setosa', 'Versicolor', 'Virginica'])\n",
    "    plt.title(title)\n",
    "    plt.xlabel(xlabel)\n",
    "    plt.ylabel(ylabel)\n",
    "    plt.show()"
   ]
  },
  {
   "cell_type": "code",
   "execution_count": 4,
   "metadata": {
    "collapsed": false,
    "deletable": true,
    "editable": true
   },
   "outputs": [
    {
     "data": {
      "image/png": "[encoded data removed]",
      "text/plain": [
       "<matplotlib.figure.Figure at 0x1129b51d0>"
      ]
     },
     "metadata": {},
     "output_type": "display_data"
    }
   ],
   "source": [
    "X = np.array(iris[['SepalLengthCm', 'SepalWidthCm', 'PetalLengthCm', 'PetalWidthCm']])\n",
    "\n",
    "X_projected, _ = pca_transform(X, k=2)\n",
    "plot_iris(X_projected, title='PCA of IRIS (Manual Implementation)', xlabel='PCA Component 1', ylabel='PCA Component 2')"
   ]
  },
  {
   "cell_type": "markdown",
   "metadata": {
    "deletable": true,
    "editable": true
   },
   "source": [
    "#### Use PCA of sklearn and compare the plots"
   ]
  },
  {
   "cell_type": "code",
   "execution_count": 5,
   "metadata": {
    "collapsed": false,
    "deletable": true,
    "editable": true
   },
   "outputs": [
    {
     "data": {
      "image/png": "[encoded data removed]",
      "text/plain": [
       "<matplotlib.figure.Figure at 0x114466c50>"
      ]
     },
     "metadata": {},
     "output_type": "display_data"
    }
   ],
   "source": [
    "# Using sklearn.decomposition\n",
    "from sklearn.decomposition import PCA\n",
    "\n",
    "X = np.array(iris[['SepalLengthCm', 'SepalWidthCm', 'PetalLengthCm', 'PetalWidthCm']])\n",
    "pca = PCA(n_components=2)\n",
    "X_projected = pca.fit_transform(X)\n",
    "\n",
    "plot_iris(X_projected, title='PCA of IRIS (Using sklearn)', xlabel='PCA Component 1', ylabel='PCA Component 2')"
   ]
  },
  {
   "cell_type": "markdown",
   "metadata": {
    "collapsed": true,
    "deletable": true,
    "editable": true
   },
   "source": [
    "Note: the two plots (manual implement and sklearn) are mirror-symmetric to each other because of a special property of eigenvector:\n",
    "\n",
    "_if $v$ is an eigenvector of $A$, then with each constant $a$: $a*v$ is also an eigenvector of $A$ (in this case, $k = -1$)_"
   ]
  },
  {
   "cell_type": "markdown",
   "metadata": {},
   "source": [
    "---\n",
    "### PCA in practice\n",
    "In practice, our data has a large amount of dimensions which leads to hugely heavy computations to determine eigenvalues and eigenvectors of a matrix. Some beautiful properties as follows help us sufficiently compute eigenvalues and eigenvectors.\n",
    "\n",
    "(1) If $\\lambda$ is an eigenvalue of $A.B$ (where $A \\in \\mathbf{R}^{d1xd2}, B \\in \\mathbf{R}^{d2xd1}$), then $\\lambda$ is also an eigen value of $B.A$\n",
    "\n",
    "(2) If $(\\lambda, u)$ is a pair of eigenvalue and eigenvector of $T = X^T.X$, then $(\\lambda, X.u)$ is a pair of eigenvalue and eigenvector of $S = X.X^T$\n",
    "\n",
    "\n",
    "#### Case D is large, N << D:\n",
    "We could calculate the eigenvalues and eigenvectors of a covariance matrix based on a smaller matrix\n",
    "- From (1), instead of directly determining eigenvalues of $S = X.X^T \\in \\mathbf{R}^{DxD}$, we compute eigenvalues of $T = X^T.X \\in \\mathbf{R}^{NxN}$ (much smaller matrix).\n",
    "- From (2), we compute eigenvectors of T (smaller matrix), and finally achieve the results by: $(\\lambda, X.u)$\n",
    "\n",
    "We have some experiments to verify the properties above"
   ]
  },
  {
   "cell_type": "code",
   "execution_count": 6,
   "metadata": {
    "collapsed": false
   },
   "outputs": [
    {
     "name": "stdout",
     "output_type": "stream",
     "text": [
      "S.shape: (1000, 1000). T.shape: (100, 100)\n"
     ]
    }
   ],
   "source": [
    "import numpy as np\n",
    "from numpy.linalg import linalg as LA\n",
    "\n",
    "def check_eig(A, eigenvalue, eigenvector):\n",
    "    return np.allclose(A.dot(eigenvector), eigenvalue * eigenvector)\n",
    "\n",
    "A = np.random.rand(1000, 100)  # N = 100, D = 10\n",
    "S = A.dot(A.T)  # S: 1000x1000\n",
    "T = A.T.dot(A)  # T: 100x100\n",
    "print('S.shape: {}. T.shape: {}'.format(S.shape, T.shape))"
   ]
  },
  {
   "cell_type": "code",
   "execution_count": 7,
   "metadata": {
    "collapsed": false
   },
   "outputs": [
    {
     "name": "stdout",
     "output_type": "stream",
     "text": [
      "CPU times: user 1.79 s, sys: 170 ms, total: 1.96 s\n",
      "Wall time: 1.06 s\n",
      "CPU times: user 6.34 ms, sys: 188 µs, total: 6.53 ms\n",
      "Wall time: 6.23 ms\n"
     ]
    }
   ],
   "source": [
    "# Now look at the time it takes to compute eigenvalues and eigenvectors of S and T. Quite significant!\n",
    "# The calculations for S is much more expensive than for T\n",
    "# ---------------------------------------------\n",
    "%time eigenvalues1, eigenvectors1T = LA.eig(S)\n",
    "%time eigenvalues2, eigenvectors2T = LA.eig(T)\n",
    "eigenvectors1 = eigenvectors1T.T\n",
    "eigenvectors2 = eigenvectors2T.T"
   ]
  },
  {
   "cell_type": "code",
   "execution_count": 8,
   "metadata": {
    "collapsed": false
   },
   "outputs": [
    {
     "data": {
      "text/plain": [
       "True"
      ]
     },
     "execution_count": 9,
     "metadata": {},
     "output_type": "execute_result"
    }
   ],
   "source": [
    "# Now, we compute an eigenvector of S based on the an eigenvector of T (by property (2))\n",
    "# ---------------------------------------------\n",
    "check_eig(S, eigenvalues2[0], A.dot(eigenvectors2[0]))"
   ]
  },
  {
   "cell_type": "markdown",
   "metadata": {},
   "source": [
    "#### Case N and D are both large\n",
    "We could use the _Power Method_: http://www.cs.huji.ac.il/~csip/tirgul2.pdf\n",
    "\n",
    "TODO: TBU"
   ]
  },
  {
   "cell_type": "code",
   "execution_count": null,
   "metadata": {
    "collapsed": true
   },
   "outputs": [],
   "source": []
  }
 ],
 "metadata": {
  "kernelspec": {
   "display_name": "Python 3",
   "language": "python",
   "name": "python3"
  },
  "language_info": {
   "codemirror_mode": {
    "name": "ipython",
    "version": 3
   },
   "file_extension": ".py",
   "mimetype": "text/x-python",
   "name": "python",
   "nbconvert_exporter": "python",
   "pygments_lexer": "ipython3",
   "version": "3.6.0"
  }
 },
 "nbformat": 4,
 "nbformat_minor": 0
}