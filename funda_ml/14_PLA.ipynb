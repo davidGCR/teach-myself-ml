{
 "cells": [
  {
   "cell_type": "markdown",
   "metadata": {},
   "source": [
    "## Perceptron Learning Algorithm\n",
    "Notes and experiments from http://machinelearningcoban.com/2017/01/21/perceptron/"
   ]
  },
  {
   "cell_type": "code",
   "execution_count": 1,
   "metadata": {
    "collapsed": false
   },
   "outputs": [],
   "source": [
    "import numpy as np \n",
    "import matplotlib.pyplot as plt\n",
    "from scipy.spatial.distance import cdist\n",
    "np.random.seed(2)\n",
    "\n",
    "means = [[2, 2], [4, 2]]\n",
    "cov = [[.3, .2], [.2, .3]]\n",
    "N1, N2 = 10, 10\n",
    "N = N1 + N2\n",
    "X0 = np.random.multivariate_normal(means[0], cov, N1)\n",
    "X1 = np.random.multivariate_normal(means[1], cov, N2)\n",
    "\n",
    "X = np.concatenate((X0, X1), axis=0)\n",
    "y = np.concatenate((np.ones((N1, 1)), -1*np.ones((N2, 1))), axis=0)\n",
    "\n",
    "# Format data: prepend column ones\n",
    "X = np.concatenate((np.ones((N, 1)), X), axis=1)"
   ]
  },
  {
   "cell_type": "code",
   "execution_count": 2,
   "metadata": {
    "collapsed": false
   },
   "outputs": [],
   "source": [
    "def h(X, w):\n",
    "    return np.sign(X.dot(w.T))\n",
    "\n",
    "def has_converged(X, y, w):\n",
    "    return np.array_equal(h(X, w), y)\n",
    "\n",
    "def perceptron(X, y, w_init, max_count=1000):\n",
    "    N = X.shape[0]\n",
    "    w_history = [w_init]\n",
    "    \n",
    "    count = 0\n",
    "    while count < max_count:\n",
    "        mix_ids = np.random.permutation(N)\n",
    "        for i in mix_ids:\n",
    "            xi = X[i, :]\n",
    "            yi = y[i, :]\n",
    "            \n",
    "            if h(xi, w_history[-1]) != yi:\n",
    "                w_updated = w_history[-1] + yi*xi\n",
    "                w_history.append(w_updated)\n",
    "        if has_converged(X, y, w_history[-1]):\n",
    "            return w_history, count\n",
    "        count += 1\n",
    "        \n",
    "    return w_history, count"
   ]
  },
  {
   "cell_type": "code",
   "execution_count": 3,
   "metadata": {
    "collapsed": false
   },
   "outputs": [],
   "source": [
    "def display_data(X, y, w=None):\n",
    "    X0 = X[np.where(y == 1)[0], :]\n",
    "    X1 = X[np.where(y == -1)[0], :]\n",
    "    \n",
    "    plt.scatter(X0[:, 1], X0[:, 2], color='blue', marker='^')\n",
    "    plt.scatter(X1[:, 1], X1[:, 2], color='red', marker='o')\n",
    "    \n",
    "    # Plot dicision boundary\n",
    "    if w is not None:\n",
    "        w = w.reshape(1, -1)\n",
    "        a_x2, b_x2 = X[:, 2].min(), X[:, 2].max()\n",
    "        a_x1 = -(w[0, 0] + w[0, 2]*a_x2)/w[0, 1]\n",
    "        b_x1 = -(w[0, 0] + w[0, 2]*b_x2)/w[0, 1]\n",
    "        plt.plot([a_x1, b_x1], [a_x2, b_x2], color='red')\n",
    "    \n",
    "    plt.show()"
   ]
  },
  {
   "cell_type": "code",
   "execution_count": 4,
   "metadata": {
    "collapsed": false
   },
   "outputs": [
    {
     "name": "stdout",
     "output_type": "stream",
     "text": [
      "Iterations: 1\n",
      "w: [[ 2.88952006 -3.0235495   2.85497544]]\n"
     ]
    },
    {
     "data": {
      "image/png": "[encoded data removed]",
      "text/plain": [
       "<matplotlib.figure.Figure at 0x112a36438>"
      ]
     },
     "metadata": {},
     "output_type": "display_data"
    }
   ],
   "source": [
    "w_history, count = perceptron(X, y, w_init=np.random.rand(1, X.shape[1]))\n",
    "print('Iterations:', count)\n",
    "print('w:', w_history[-1])\n",
    "display_data(X, y, w_history[-1])"
   ]
  },
  {
   "cell_type": "markdown",
   "metadata": {},
   "source": [
    "It is mathematically proved that if data is _linearly separable_, then after a number of steps to update $w$ as in PLA (ie. $w = w + y_i*x_i$), the _convergence_ eventually occurs. In other words, the given algorithm always comes up with a solution in case data is linearly separable\n",
    "See the proof at http://machinelearningcoban.com/2017/01/21/perceptron/\n",
    "\n",
    "\n",
    "Now, let's try to use PLA to model the function __XOR__ in which the outcomes are not separated by a hyperplane."
   ]
  },
  {
   "cell_type": "code",
   "execution_count": 5,
   "metadata": {
    "collapsed": false
   },
   "outputs": [
    {
     "name": "stdout",
     "output_type": "stream",
     "text": [
      "Iterations: 5000\n"
     ]
    },
    {
     "data": {
      "image/png": "[encoded data removed]",
      "text/plain": [
       "<matplotlib.figure.Figure at 0x11398a4e0>"
      ]
     },
     "metadata": {},
     "output_type": "display_data"
    }
   ],
   "source": [
    "# Try with non-linearly separable\n",
    "X = [[b1, b2] for b1 in [0, 1] for b2 in [0, 1]]\n",
    "y = np.array([2*(b1^b2)-1 for [b1, b2] in X]).reshape(-1, 1) # function f(x) = 2x - 1 maps the inputs {0, 1} --> {-1, 1}\n",
    "X = np.concatenate((np.ones((len(X), 1)), X), axis=1)\n",
    "\n",
    "w_history, count = perceptron(X, y, w_init=np.random.rand(1, X.shape[1]), max_count=5000)\n",
    "print('Iterations:', count)\n",
    "display_data(X, y, w_history[-1])"
   ]
  },
  {
   "cell_type": "markdown",
   "metadata": {},
   "source": [
    "___Observation:___\n",
    "The number of iterations reaches max_count which was set as 5000, demonstrating that the _convergence_ did _NOT_ take place."
   ]
  },
  {
   "cell_type": "code",
   "execution_count": null,
   "metadata": {
    "collapsed": true
   },
   "outputs": [],
   "source": []
  }
 ],
 "metadata": {
  "kernelspec": {
   "display_name": "Python 3",
   "language": "python",
   "name": "python3"
  },
  "language_info": {
   "codemirror_mode": {
    "name": "ipython",
    "version": 3
   },
   "file_extension": ".py",
   "mimetype": "text/x-python",
   "name": "python",
   "nbconvert_exporter": "python",
   "pygments_lexer": "ipython3",
   "version": "3.6.0"
  }
 },
 "nbformat": 4,
 "nbformat_minor": 2
}
